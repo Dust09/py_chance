{
 "cells": [
  {
   "cell_type": "code",
   "execution_count": 2,
   "metadata": {},
   "outputs": [],
   "source": [
    "import numpy as np"
   ]
  },
  {
   "cell_type": "markdown",
   "metadata": {},
   "source": [
    "***Известно, что генеральная совокупность распределена нормально со средним квадратическим отклонением, равным 16. Найти доверительный интервал для оценки математического ожидания a с надежностью 0.95, если выборочная средняя M = 80, а объем выборки n = 256.***\n",
    "<p>$\n",
    " \\overline{X}\\pm{z_{\\alpha/2}*\\sigma/{\\sqrt{n}}}\n",
    "$"
   ]
  },
  {
   "cell_type": "code",
   "execution_count": 22,
   "metadata": {},
   "outputs": [
    {
     "name": "stdout",
     "output_type": "stream",
     "text": [
      "Доверительный интервал: 78.04 ; 81.96\n"
     ]
    }
   ],
   "source": [
    "sigma = 16\n",
    "n = 256\n",
    "Xcp = 80\n",
    "Ztabl=1.96\n",
    "a = Xcp + (Ztabl * sigma/np.sqrt(256))\n",
    "b = Xcp - (Ztabl * sigma/np.sqrt(256))\n",
    "print(f'Доверительный интервал: {b} ; {a}')"
   ]
  },
  {
   "cell_type": "markdown",
   "metadata": {},
   "source": [
    "***В результате 10 независимых измерений некоторой величины X, выполненных с одинаковой точностью, получены опытные данные: 6.9, 6.1, 6.2, 6.8, 7.5, 6.3, 6.4, 6.9, 6.7, 6.1 Предполагая, что результаты измерений подчинены нормальному закону распределения вероятностей, оценить истинное значение величины X при помощи доверительного интервала, покрывающего это значение с доверительной вероятностью 0,95.***\n",
    "<p>$\n",
    "\\overline{X}\\pm{t_{a/2}*\\sigma/\\sqrt{n}}\n",
    "$"
   ]
  },
  {
   "cell_type": "code",
   "execution_count": 9,
   "metadata": {},
   "outputs": [
    {
     "name": "stdout",
     "output_type": "stream",
     "text": [
      "доверительный интервал 6.267538255912426 ; 6.912461744087575\n"
     ]
    }
   ],
   "source": [
    "X = np.array([6.9, 6.1, 6.2, 6.8, 7.5, 6.3, 6.4, 6.9, 6.7, 6.1])\n",
    "X.sort()\n",
    "n = len(X)\n",
    "t = 2.262 #10 - 1 = 9 /По таблице Стьюдента 2.62 \n",
    "X_mean = np.mean(X)\n",
    "D = np.var(X,ddof=1) #так как выборка маленькая используем несмещенную оценку дисперсии\n",
    "sigma = np.sqrt(D) #np.std(X,ddof=1)\n",
    "a = X_mean + (t * sigma / np.sqrt(n))\n",
    "b = X_mean - (t * sigma / np.sqrt(n))\n",
    "print(f'доверительный интервал {b} ; {a}')"
   ]
  },
  {
   "cell_type": "markdown",
   "metadata": {},
   "source": [
    "***Утверждается, что шарики для подшипников, изготовленные автоматическим станком, имеют средний диаметр 17 мм.\n",
    "Используя односторонний критерий с α=0,05, проверить эту гипотезу, если в выборке из n=100 шариков средний диаметр\n",
    "оказался равным 17.5 мм, а дисперсия известна и равна 4 кв.мм.***\n",
    "* Н0 = диаметр = 17 , $\\mu$=$\\mu_{0}$\n",
    "* Н1 = диаметр = 17.5, $\\mu$>$\\mu_{0}$\n",
    "<p>$\n",
    "Z_{наблюдаемая}={\\overline{X}-M_{0}\\over{\\sigma}/{\\sqrt{n}}}\n",
    "$"
   ]
  },
  {
   "cell_type": "code",
   "execution_count": 18,
   "metadata": {},
   "outputs": [
    {
     "name": "stdout",
     "output_type": "stream",
     "text": [
      "Zнабл. = 2.5\n",
      "Z табличное = 1.65\n",
      "Z табличное<Zнаблюдаемого, поэтому гипотеза h1 верна\n"
     ]
    }
   ],
   "source": [
    "n = 100\n",
    "a = 0.05\n",
    "mu = 17.5\n",
    "mu_0 = 17\n",
    "D = np.sqrt(4)\n",
    "Ztabl = 1.645\n",
    "Zp = (mu - mu_0) / (D/np.sqrt(n))\n",
    "print(f'Zнабл. = {Zp}\\nZ табличное = 1.65\\nZ табличное<Zнаблюдаемого, поэтому гипотеза h1 верна')"
   ]
  },
  {
   "cell_type": "markdown",
   "metadata": {},
   "source": [
    "***Продавец утверждает, что средний вес пачки печенья составляет 200 г. Из партии извлечена выборка из 10 пачек. Вес каждой пачки составляет: 202, 203, 199, 197, 195, 201, 200, 204, 194, 190. Известно, что их веса распределены нормально. Верно ли утверждение продавца, если учитывать, что доверительная вероятность равна 99%?***\n",
    "* Н0 = вес = 200 , $\\mu$=$\\mu_{0}$\n",
    "* Н1 = вес != 200, $\\mu$!=$\\mu_{0}$\n"
   ]
  },
  {
   "cell_type": "code",
   "execution_count": 19,
   "metadata": {},
   "outputs": [
    {
     "name": "stdout",
     "output_type": "stream",
     "text": [
      "(H0)t = -1.0651074037450896\n",
      "H1 = 3.250\n",
      "H0<H1 ,H1 больше H0 ,поэтому гипотеза H0 верна\n"
     ]
    }
   ],
   "source": [
    "X = np.array([202, 203, 199, 197, 195, 201, 200, 204, 194, 190])\n",
    "n = len(X)\n",
    "mu_0 = 200\n",
    "mu = np.mean(X)\n",
    "D = np.var(X,ddof=1)\n",
    "sigma = np.sqrt(D)\n",
    "t = (mu - mu_0) * (np.sqrt(n)/sigma)\n",
    "# k = 10 - 9 ,100-99 = 0.01/2 ,что по таблице Стьюдента будет = 3.250\n",
    "print(f'(H0)t = {t}\\nH1 = 3.250\\nH0<H1 ,H1 больше H0 ,поэтому гипотеза H0 верна')\n"
   ]
  },
  {
   "cell_type": "code",
   "execution_count": 82,
   "metadata": {},
   "outputs": [],
   "source": []
  },
  {
   "cell_type": "code",
   "execution_count": null,
   "metadata": {},
   "outputs": [],
   "source": []
  }
 ],
 "metadata": {
  "kernelspec": {
   "display_name": "Python 3",
   "language": "python",
   "name": "python3"
  },
  "language_info": {
   "codemirror_mode": {
    "name": "ipython",
    "version": 3
   },
   "file_extension": ".py",
   "mimetype": "text/x-python",
   "name": "python",
   "nbconvert_exporter": "python",
   "pygments_lexer": "ipython3",
   "version": "3.7.3"
  }
 },
 "nbformat": 4,
 "nbformat_minor": 2
}
