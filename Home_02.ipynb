{
 "cells": [
  {
   "cell_type": "code",
   "execution_count": 73,
   "metadata": {},
   "outputs": [],
   "source": [
    "from math import factorial as f"
   ]
  },
  {
   "cell_type": "markdown",
   "metadata": {},
   "source": [
    "Задание 1. Вероятность того, что стрелок попадет в мишень, выстрелив один раз, равна 0.8. Стрелок выстрелил 100 раз. Найдите вероятность того, что стрелок попадет в цель ровно 85 раз."
   ]
  },
  {
   "cell_type": "code",
   "execution_count": 41,
   "metadata": {},
   "outputs": [
    {
     "name": "stdout",
     "output_type": "stream",
     "text": [
      "Вероятность того что попадет 85 раз :0.048061793700746355\n"
     ]
    }
   ],
   "source": [
    "p = 0.8\n",
    "n = 100\n",
    "k = 85\n",
    "q = 1 - 0.8\n",
    "c0 = (f(n) / (f(k)*(f(n-k)))) * ((p)**k) *((q)**(n - k))\n",
    "print (f'Вероятность того что попадет 85 раз :{c0}')"
   ]
  },
  {
   "cell_type": "markdown",
   "metadata": {},
   "source": [
    "Задание 2.Вероятность того, что лампочка перегорит в течение первого дня эксплуатации, равна 0.0004. В жилом комплексе после ремонта в один день включили 5000 новых лампочек. Какова вероятность, что ни одна из них не перегорит в первый день? Какова вероятность, что перегорят ровно две?"
   ]
  },
  {
   "cell_type": "code",
   "execution_count": 17,
   "metadata": {},
   "outputs": [
    {
     "name": "stdout",
     "output_type": "stream",
     "text": [
      "Вероятность того что ни одна лампочка не перегорит в первый день :0.8648356401384083\n",
      " Вероятность что перегорят ровно две: 0.27032871972318334 \n"
     ]
    }
   ],
   "source": [
    "p = 0.0004\n",
    "n = 5000\n",
    "e = 2.72\n",
    "m1 = 0\n",
    "m2 = 2\n",
    "lambd = p*n\n",
    "p_m1 = 1 - (((lambd**m1)/f(m1)) * (e**-lambd))\n",
    "p_m2 = (((lambd**m2)/f(m2)) * (e**-lambd))\n",
    "print(f'Вероятность того что ни одна лампочка не перегорит в первый день :{p_m1}'\n",
    "     f'\\n Вероятность что перегорят ровно две: {p_m2} ')"
   ]
  },
  {
   "cell_type": "markdown",
   "metadata": {},
   "source": [
    "Задание 3. Монету подбросили 144 раза. Какова вероятность, что орел выпадет ровно 70 раз?"
   ]
  },
  {
   "cell_type": "code",
   "execution_count": 39,
   "metadata": {},
   "outputs": [
    {
     "name": "stdout",
     "output_type": "stream",
     "text": [
      "вероятность того что орел выпадет ровно 70 раз : 0.06281178035144776\n"
     ]
    }
   ],
   "source": [
    "n = 144\n",
    "k = 70\n",
    "p = 0.5\n",
    "q = 1 - 0.5\n",
    "c0 = (f(n) / (f(k)*(f(n-k)))) * ((p)**k) *((q)**(n - k))\n",
    "print(f'вероятность того что орел выпадет ровно 70 раз : {c0}')"
   ]
  },
  {
   "cell_type": "markdown",
   "metadata": {},
   "source": [
    "Задание 4. В первом ящике находится 10 мячей, из которых 7 - белые. Во втором ящике - 11 мячей, из которых 9 белых. Из каждого ящика вытаскивают случайным образом по два мяча. Какова вероятность того, что все мячи белые? Какова вероятность того, что ровно два мяча белые? Какова вероятность того, что хотя бы один мяч белый?"
   ]
  },
  {
   "cell_type": "code",
   "execution_count": 74,
   "metadata": {},
   "outputs": [
    {
     "name": "stdout",
     "output_type": "stream",
     "text": [
      " Вероятность что все мячи будут белыми : 0.3054545454545455\n"
     ]
    }
   ],
   "source": [
    "p1 = (f(7) / (f(2)*f(7 - 2))) / (f(10) / (f(2)*f(10 - 2))) # что вытянутые мячи из первой корзины белые\n",
    "p2 = (f(9) / (f(2)*f(9 - 2))) / (f(11) / (f(2)*f(11 - 2)))\n",
    "res1 = p1 * p2\n",
    "print(f' Вероятность что все мячи будут белыми : {res1}')"
   ]
  },
  {
   "cell_type": "code",
   "execution_count": 69,
   "metadata": {},
   "outputs": [
    {
     "data": {
      "text/plain": [
       "0.7"
      ]
     },
     "execution_count": 69,
     "metadata": {},
     "output_type": "execute_result"
    }
   ],
   "source": []
  },
  {
   "cell_type": "code",
   "execution_count": null,
   "metadata": {},
   "outputs": [],
   "source": []
  }
 ],
 "metadata": {
  "kernelspec": {
   "display_name": "Python 3",
   "language": "python",
   "name": "python3"
  },
  "language_info": {
   "codemirror_mode": {
    "name": "ipython",
    "version": 3
   },
   "file_extension": ".py",
   "mimetype": "text/x-python",
   "name": "python",
   "nbconvert_exporter": "python",
   "pygments_lexer": "ipython3",
   "version": "3.7.3"
  }
 },
 "nbformat": 4,
 "nbformat_minor": 2
}
