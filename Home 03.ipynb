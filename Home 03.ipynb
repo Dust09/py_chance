{
 "cells": [
  {
   "cell_type": "code",
   "execution_count": 83,
   "metadata": {},
   "outputs": [],
   "source": [
    "import numpy as np\n",
    "from math import factorial as f\n"
   ]
  },
  {
   "cell_type": "raw",
   "metadata": {},
   "source": [
    "Задание 1\n",
    "Даны значения зарплат из выборки выпускников: 100, 80, 75, 77, 89, 33, 45, 25, 65, 17, 30, 24, 57, 55, 70, 75, 65, 84, 90, 150. Посчитать (желательно без использования статистических методов наподобие std, var, mean) среднее арифметическое, среднее квадратичное отклонение, смещенную и несмещенную оценки дисперсий для данной выборки."
   ]
  },
  {
   "cell_type": "code",
   "execution_count": 29,
   "metadata": {},
   "outputs": [],
   "source": [
    "z = np.array([100, 80, 75, 77, 89, 33, 45, 25, 65, 17, 30, 24, 57, 55, 70, 75, 65, 84, 90, 150])\n",
    "z.sort()\n"
   ]
  },
  {
   "cell_type": "markdown",
   "metadata": {},
   "source": [
    "Среднее арифметическое "
   ]
  },
  {
   "cell_type": "code",
   "execution_count": 34,
   "metadata": {},
   "outputs": [
    {
     "data": {
      "text/plain": [
       "20"
      ]
     },
     "execution_count": 34,
     "metadata": {},
     "output_type": "execute_result"
    }
   ],
   "source": [
    "len(z)"
   ]
  },
  {
   "cell_type": "code",
   "execution_count": 7,
   "metadata": {},
   "outputs": [
    {
     "data": {
      "text/plain": [
       "1306"
      ]
     },
     "execution_count": 7,
     "metadata": {},
     "output_type": "execute_result"
    }
   ],
   "source": [
    "sum(z)"
   ]
  },
  {
   "cell_type": "code",
   "execution_count": 25,
   "metadata": {},
   "outputs": [
    {
     "data": {
      "text/plain": [
       "65.3"
      ]
     },
     "execution_count": 25,
     "metadata": {},
     "output_type": "execute_result"
    }
   ],
   "source": [
    "me = 1306/20\n",
    "me"
   ]
  },
  {
   "cell_type": "code",
   "execution_count": 12,
   "metadata": {},
   "outputs": [
    {
     "data": {
      "text/plain": [
       "65.3"
      ]
     },
     "execution_count": 12,
     "metadata": {},
     "output_type": "execute_result"
    }
   ],
   "source": [
    "np.mean(z)"
   ]
  },
  {
   "cell_type": "raw",
   "metadata": {},
   "source": [
    "Среднее квадртичное отклонение"
   ]
  },
  {
   "cell_type": "code",
   "execution_count": 32,
   "metadata": {},
   "outputs": [
    {
     "data": {
      "text/plain": [
       "30.823854398825592"
      ]
     },
     "execution_count": 32,
     "metadata": {},
     "output_type": "execute_result"
    }
   ],
   "source": [
    "sd = np.sqrt(((z - 65.3)**2).sum()/len(z) )\n",
    "sd"
   ]
  },
  {
   "cell_type": "code",
   "execution_count": 21,
   "metadata": {},
   "outputs": [
    {
     "data": {
      "text/plain": [
       "30.823854398825592"
      ]
     },
     "execution_count": 21,
     "metadata": {},
     "output_type": "execute_result"
    }
   ],
   "source": [
    "np.std(z)"
   ]
  },
  {
   "cell_type": "raw",
   "metadata": {},
   "source": [
    "смещенная оценка дисперсии для выборки"
   ]
  },
  {
   "cell_type": "code",
   "execution_count": 35,
   "metadata": {},
   "outputs": [
    {
     "data": {
      "text/plain": [
       "950.1099999999999"
      ]
     },
     "execution_count": 35,
     "metadata": {},
     "output_type": "execute_result"
    }
   ],
   "source": [
    "var = ((z - me) ** 2).sum() / len(z)\n",
    "var"
   ]
  },
  {
   "cell_type": "code",
   "execution_count": 40,
   "metadata": {},
   "outputs": [
    {
     "data": {
      "text/plain": [
       "950.1099999999999"
      ]
     },
     "execution_count": 40,
     "metadata": {},
     "output_type": "execute_result"
    }
   ],
   "source": [
    "np.var(z)"
   ]
  },
  {
   "cell_type": "raw",
   "metadata": {},
   "source": [
    "несмещенная оценка дисперсии"
   ]
  },
  {
   "cell_type": "code",
   "execution_count": 44,
   "metadata": {},
   "outputs": [
    {
     "data": {
      "text/plain": [
       "1000.115789473684"
      ]
     },
     "execution_count": 44,
     "metadata": {},
     "output_type": "execute_result"
    }
   ],
   "source": [
    "var1 = ((z - me) **2).sum()/(len(z) - 1) \n",
    "var1"
   ]
  },
  {
   "cell_type": "code",
   "execution_count": 41,
   "metadata": {},
   "outputs": [
    {
     "data": {
      "text/plain": [
       "1000.115789473684"
      ]
     },
     "execution_count": 41,
     "metadata": {},
     "output_type": "execute_result"
    }
   ],
   "source": [
    "np.var(z,ddof=1)"
   ]
  },
  {
   "cell_type": "markdown",
   "metadata": {},
   "source": [
    "Задание 2\n",
    "В первом ящике находится 8 мячей, из которых 5 - белые. Во втором ящике - 12 мячей, из которых 5 белых. Из первого ящика вытаскивают случайным образом два мяча, из второго - 4. Какова вероятность того, что 3 мяча белые?"
   ]
  },
  {
   "cell_type": "code",
   "execution_count": 73,
   "metadata": {},
   "outputs": [],
   "source": [
    "def combinations (n,k):\n",
    "    return int(f(n) / (f(k) * f (n-k)))"
   ]
  },
  {
   "cell_type": "raw",
   "metadata": {},
   "source": [
    "a1 - из 1го достали два мяча\n",
    "а2 -из второго достали 1 мяч\n",
    "а3 -из 1го достали 1 мяч\n",
    "а4 -из 2го достали 2 мяча \n",
    "а5 - из первого достали 0 мячей \n",
    "а6 -из второго достли 3 мяча"
   ]
  },
  {
   "cell_type": "code",
   "execution_count": 84,
   "metadata": {},
   "outputs": [],
   "source": [
    "a1 = combinations(5,2) *combinations(3,0)/combinations(8,2)\n",
    "a2 = combinations(5,1) *combinations(7,3)/combinations(12,4)\n",
    "a3 = combinations(5,1)*combinations(3,1)/combinations(8,2)\n",
    "a4 = combinations(5,2)*combinations(7,2)/combinations(12,4)\n",
    "a5 = combinations(5,0)*combinations(3,2)/combinations(8,2)\n",
    "a6 = combinations(5,3)*combinations(7,1)/combinations(12,4)"
   ]
  },
  {
   "cell_type": "code",
   "execution_count": 85,
   "metadata": {},
   "outputs": [
    {
     "data": {
      "text/plain": [
       "0.3686868686868687"
      ]
     },
     "execution_count": 85,
     "metadata": {},
     "output_type": "execute_result"
    }
   ],
   "source": [
    "A = a1*a2+a3*a4+a5*a6\n",
    "A"
   ]
  },
  {
   "cell_type": "raw",
   "metadata": {},
   "source": [
    "Задание 3\n",
    "На соревновании по биатлону один из трех спортсменов стреляет и попадает в мишень. Вероятность попадания для первого спортсмена равна 0.9, для второго — 0.8, для третьего — 0.6. Найти вероятность того, что выстрел произведен: a). первым спортсменом б). вторым спортсменом в). третьим спортсменом."
   ]
  },
  {
   "cell_type": "code",
   "execution_count": 95,
   "metadata": {},
   "outputs": [
    {
     "name": "stdout",
     "output_type": "stream",
     "text": [
      "вероятность того что выстрел был произведн первым спортсменом :0.391304347826087\n",
      "Вторым спортсменом: 0.3478260869565218\n",
      "Третьим спортсменом: 0.2608695652173913\n"
     ]
    }
   ],
   "source": [
    "pa = 1/3 *0.9 + 1/3*0.8+1/3 *0.6\n",
    "pa1 = (1/3 * 0.9) / pa\n",
    "pa2 = (1/3 * 0.8) / pa\n",
    "pa3 = (1/3 *0.6) / pa\n",
    "print(f'вероятность того что выстрел был произведн первым спортсменом :{pa1}\\nВторым спортсменом: {pa2}\\nТретьим спортсменом: {pa3}')"
   ]
  },
  {
   "cell_type": "raw",
   "metadata": {},
   "source": [
    "Задание 4\n",
    "В университет на факультеты A и B поступило равное количество студентов, а на факультет C студентов поступило столько же, сколько на A и B вместе. Вероятность того, что студент факультета A сдаст первую сессию, равна 0.8. Для студента факультета B эта вероятность равна 0.7, а для студента факультета C - 0.9. Студент сдал первую сессию. Какова вероятность, что он учится: a). на факультете A б). на факультете B в). на факультете C?"
   ]
  },
  {
   "cell_type": "code",
   "execution_count": 98,
   "metadata": {},
   "outputs": [
    {
     "name": "stdout",
     "output_type": "stream",
     "text": [
      "вероятность что студент учился на факультете А: 0.24242424242424246\n",
      "На факультете В: 0.24242424242424246\n",
      "На факультете С: 0.4848484848484849\n"
     ]
    }
   ],
   "source": [
    "pa = 1/4 * 0.8 + 1/4 *0.7 + 2/4 *0.9\n",
    "pa1 = (1/4 * 0.8)/pa\n",
    "pa2 = (1/4 * 0.8)/pa\n",
    "pa3 =(2/4 * 0.8)/pa\n",
    "print(f'вероятность что студент учился на факультете А: {pa1}\\nНа факультете В: {pa2}\\nНа факультете С: {pa3}')"
   ]
  },
  {
   "cell_type": "raw",
   "metadata": {},
   "source": [
    "Задание 4\n",
    "Устройство состоит из трех деталей. Для первой детали вероятность выйти из строя в первый месяц равна 0.1, для второй - 0.2, для третьей - 0.25. Какова вероятность того, что в первый месяц выйдут из строя: а). все детали б). только две детали в). хотя бы одна деталь г). от одной до двух деталей?"
   ]
  },
  {
   "cell_type": "code",
   "execution_count": 107,
   "metadata": {},
   "outputs": [
    {
     "name": "stdout",
     "output_type": "stream",
     "text": [
      "Вероятность что выйдут из строя все детали : 0.005000000000000001\n"
     ]
    }
   ],
   "source": [
    "pa = 0.1 *0.2 * 0.25\n",
    "print(f'Вероятность что выйдут из строя все детали : {pa}')"
   ]
  },
  {
   "cell_type": "raw",
   "metadata": {},
   "source": [
    "pa1 - из строя вышла первая и вторая деталь\n",
    "pa2 - из строя вышла первая и третья деталь\n",
    "ра4 - из строя вышла вторая и третья деталь"
   ]
  },
  {
   "cell_type": "code",
   "execution_count": 132,
   "metadata": {},
   "outputs": [
    {
     "name": "stdout",
     "output_type": "stream",
     "text": [
      "что выйдут только две детали: 0.08000000000000002\n"
     ]
    }
   ],
   "source": [
    "pa1 = 0.1 * 0.2 * 0.75\n",
    "pa2 = 0.1 * 0.8 * 0.25\n",
    "pa3 = 0.9 * 0.2 * 0.25\n",
    "p = pa1 + pa2 + pa3\n",
    "print(f'что выйдут только две детали: {p}')"
   ]
  },
  {
   "cell_type": "code",
   "execution_count": 133,
   "metadata": {},
   "outputs": [
    {
     "name": "stdout",
     "output_type": "stream",
     "text": [
      "что вйдет из строя хотя бы одна деталь: 0.45999999999999996\n"
     ]
    }
   ],
   "source": [
    "pd = 1 - (0.9 * 0.8 * 0.75)\n",
    "print(f'что вйдет из строя хотя бы одна деталь: {pd}')"
   ]
  },
  {
   "cell_type": "code",
   "execution_count": 136,
   "metadata": {},
   "outputs": [
    {
     "name": "stdout",
     "output_type": "stream",
     "text": [
      "что выйдут из строя от одной до двух деталей 0.45500000000000007\n"
     ]
    }
   ],
   "source": [
    "pa1 = 0.9 * 0.2 * 0.75\n",
    "pa2 = 0.9 * 0.8 * 0.25\n",
    "pa3 = 0.1 * 0.8 * 0.75\n",
    "p1 = pa1 +pa2+pa3\n",
    "pp = p1+p\n",
    "print(f'что выйдут из строя от одной до двух деталей {pp}')"
   ]
  }
 ],
 "metadata": {
  "kernelspec": {
   "display_name": "Python 3",
   "language": "python",
   "name": "python3"
  },
  "language_info": {
   "codemirror_mode": {
    "name": "ipython",
    "version": 3
   },
   "file_extension": ".py",
   "mimetype": "text/x-python",
   "name": "python",
   "nbconvert_exporter": "python",
   "pygments_lexer": "ipython3",
   "version": "3.7.3"
  }
 },
 "nbformat": 4,
 "nbformat_minor": 2
}
