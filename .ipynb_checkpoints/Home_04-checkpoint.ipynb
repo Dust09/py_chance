{
 "cells": [
  {
   "cell_type": "code",
   "execution_count": 14,
   "metadata": {},
   "outputs": [],
   "source": [
    "import numpy as np"
   ]
  },
  {
   "cell_type": "markdown",
   "metadata": {},
   "source": [
    "**Задание 1.Случайная непрерывная величина A имеет равномерное распределение на промежутке (200, 800].\n",
    "Найдите ее среднее значение и дисперсию.**"
   ]
  },
  {
   "cell_type": "code",
   "execution_count": 9,
   "metadata": {},
   "outputs": [
    {
     "name": "stdout",
     "output_type": "stream",
     "text": [
      "Среднее значение на промежутке : 500.0\n",
      "Дисперсия : 30000.0\n"
     ]
    }
   ],
   "source": [
    "a = 200\n",
    "b = 800\n",
    "M = (a+b)/2\n",
    "\n",
    "D = ((b-a)** 2) / 12\n",
    "print (f'Среднее значение на промежутке : {M}\\nДисперсия : {D}')"
   ]
  },
  {
   "cell_type": "markdown",
   "metadata": {},
   "source": [
    "**Задание 2. О случайной непрерывной равномерно распределенной величине B известно, что ее дисперсия равна 0.2.\n",
    "Можно ли найти правую границу величины B и ее среднее значение зная, что левая граница равна 0.5?\n",
    "Если да, найдите ее.**"
   ]
  },
  {
   "cell_type": "code",
   "execution_count": 19,
   "metadata": {},
   "outputs": [
    {
     "name": "stdout",
     "output_type": "stream",
     "text": [
      "Правая граница b : 2.049193338482967\n",
      "Среднее значение : 1.2745966692414834\n"
     ]
    }
   ],
   "source": [
    "D = 0.2\n",
    "a = 0.5\n",
    "b = a + (np.sqrt(12 * D))\n",
    "M = (a + b) / 2\n",
    "print(f'Правая граница b : {b}\\nСреднее значение : {M}')"
   ]
  },
  {
   "cell_type": "code",
   "execution_count": 24,
   "metadata": {},
   "outputs": [
    {
     "data": {
      "text/plain": [
       "0.5"
      ]
     },
     "execution_count": 24,
     "metadata": {},
     "output_type": "execute_result"
    }
   ],
   "source": [
    "a = b - (np.sqrt(12 * D))\n",
    "a"
   ]
  },
  {
   "cell_type": "markdown",
   "metadata": {},
   "source": [
    "**Задание 3. Непрерывная случайная величина X распределена нормально и задана плотностью распределения**\n",
    "f(x) = (1 / (4 * sqrt(2*pi))) * exp(-((x+2)**2) / 32).\n",
    "\n",
    "Hайдите:\n",
    "* a). M(X)\n",
    "* б). D(X)\n",
    "* в). std(X) (среднее квадратичное отклонение)\n"
   ]
  },
  {
   "cell_type": "code",
   "execution_count": 28,
   "metadata": {},
   "outputs": [
    {
     "name": "stdout",
     "output_type": "stream",
     "text": [
      "среднее значение M : -2\n",
      "Дисперсия D : 16\n",
      "std(X) : 4\n"
     ]
    }
   ],
   "source": [
    "print('среднее значение M : -2\\nДисперсия D : 16\\nstd(X) : 4' )"
   ]
  },
  {
   "cell_type": "markdown",
   "metadata": {},
   "source": [
    "**Задание 4 . Рост взрослого населения города X имеет нормальное распределение.\n",
    "Причем, средний рост равен 174 см, а среднее квадратичное отклонение равно 8 см.\n",
    "Какова вероятность того, что случайным образом выбранный взрослый человек имеет рост:**\n",
    "* а). больше 182 см\n",
    "* б). больше 190 см\n",
    "* в). от 166 см до 190 см\n",
    "+ г). от 166 см до 182 см\n",
    "* д). от 158 см до 190 см\n",
    "* е). не выше 150 см или не ниже 190 см\n",
    "* ё). не выше 150 см или не ниже 198 см\n",
    "* ж). ниже 166 см."
   ]
  },
  {
   "cell_type": "code",
   "execution_count": 72,
   "metadata": {},
   "outputs": [],
   "source": [
    "import scipy.stats as st"
   ]
  },
  {
   "cell_type": "code",
   "execution_count": 86,
   "metadata": {},
   "outputs": [],
   "source": [
    "tall = st.norm(loc=174, scale =8)"
   ]
  },
  {
   "cell_type": "code",
   "execution_count": 94,
   "metadata": {},
   "outputs": [
    {
     "name": "stdout",
     "output_type": "stream",
     "text": [
      "а).больше 182 см 0.15865525393145707\n",
      "б).больше 190 см 0.02275013194817921\n",
      "в).от 166 см до 190 см 0.8185946141203637\n",
      "г).от 166 см до 182 см 0.6826894921370859\n",
      "д).от 158 см до 190 см 0.9544997361036416\n",
      "е).не выше 150 см или не ниже 190 см 0.0241000299798093\n",
      "ё).не выше 150 см или не ниже 198 см 0.0026997960632601965\n",
      "ж).ниже 166 см 0.15865525393145707\n"
     ]
    }
   ],
   "source": [
    "a = 1 - tall.cdf(182)\n",
    "b = 1 - tall.cdf(190)\n",
    "c = tall.cdf(190) - tall.cdf(166)\n",
    "d = tall.cdf(182) - tall.cdf(166)\n",
    "e = tall.cdf(190) - tall.cdf(158)\n",
    "f = tall.cdf(150) + (1 - tall.cdf(190))\n",
    "g = tall.cdf(150) + (1 - tall.cdf(198))\n",
    "k = tall.cdf(166)\n",
    "print(f'а).больше 182 см {a}\\nб).больше 190 см {b}\\nв).от 166 см до 190 см {c}\\nг).от 166 см до 182 см {d}\\nд).от 158 см до 190 см {e}\\nе).не выше 150 см или не ниже 190 см {f}\\nё).не выше 150 см или не ниже 198 см {g}\\nж).ниже 166 см {k}')"
   ]
  },
  {
   "cell_type": "markdown",
   "metadata": {},
   "source": [
    "**Задание 5.На сколько сигм (средних квадратичных отклонений) отклоняется рост человека, равный 190 см, от\n",
    "математического ожидания роста в популяции, в которой M(X) = 178 см и D(X) = 25 кв.см?**"
   ]
  },
  {
   "cell_type": "code",
   "execution_count": 96,
   "metadata": {},
   "outputs": [
    {
     "data": {
      "text/plain": [
       "2.4"
      ]
     },
     "execution_count": 96,
     "metadata": {},
     "output_type": "execute_result"
    }
   ],
   "source": [
    "X = 190\n",
    "M = 178\n",
    "sigma = np.sqrt(25)\n",
    "(X-M) / sigma"
   ]
  }
 ],
 "metadata": {
  "kernelspec": {
   "display_name": "Python 3",
   "language": "python",
   "name": "python3"
  },
  "language_info": {
   "codemirror_mode": {
    "name": "ipython",
    "version": 3
   },
   "file_extension": ".py",
   "mimetype": "text/x-python",
   "name": "python",
   "nbconvert_exporter": "python",
   "pygments_lexer": "ipython3",
   "version": "3.7.3"
  }
 },
 "nbformat": 4,
 "nbformat_minor": 2
}
