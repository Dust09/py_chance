{
 "cells": [
  {
   "cell_type": "code",
   "execution_count": 1,
   "metadata": {},
   "outputs": [],
   "source": [
    "import numpy as np\n",
    "import seaborn as sns"
   ]
  },
  {
   "cell_type": "markdown",
   "metadata": {},
   "source": [
    "Даны значения величины заработной платы заемщиков банка (zp) и значения их поведенческого кредитного скоринга (ks): zp = [35, 45, 190, 200, 40, 70, 54, 150, 120, 110], ks = [401, 574, 874, 919, 459, 739, 653, 902, 746, 832]. \n",
    "Используя математические операции, посчитать коэффициенты линейной регрессии, приняв за X заработную плату (то есть, zp - признак), а за y - значения скорингового балла (то есть, ks - целевая переменная). Произвести расчет как с использованием intercept, так и без."
   ]
  },
  {
   "cell_type": "code",
   "execution_count": 64,
   "metadata": {},
   "outputs": [
    {
     "name": "stdout",
     "output_type": "stream",
     "text": [
      "beta 0 : 444.1773573243596\n",
      "beta 1 : 2.620538882402765\n"
     ]
    }
   ],
   "source": [
    "x = np.array([35, 45, 190, 200, 40, 70, 54, 150, 120, 110])\n",
    "y = np.array([401, 574, 874, 919, 459, 739, 653, 902, 746, 832])\n",
    "b1 = (np.mean(x*y) - np.mean(x)*np.mean(y)) / (np.mean(x**2) - np.mean(x)**2)\n",
    "b0 = np.mean(y) - b1*np.mean(x)\n",
    "print(f'beta 0 : {b0}\\nbeta 1 : {b1}')"
   ]
  },
  {
   "cell_type": "markdown",
   "metadata": {},
   "source": [
    "$\n",
    "\\hat{B} = (X^T*X)^{-1}*X^T*Y\n",
    "$"
   ]
  },
  {
   "cell_type": "code",
   "execution_count": 38,
   "metadata": {},
   "outputs": [
    {
     "data": {
      "text/plain": [
       "array([[  1.,  35.],\n",
       "       [  1.,  45.],\n",
       "       [  1., 190.],\n",
       "       [  1., 200.],\n",
       "       [  1.,  40.],\n",
       "       [  1.,  70.],\n",
       "       [  1.,  54.],\n",
       "       [  1., 150.],\n",
       "       [  1., 120.],\n",
       "       [  1., 110.]])"
      ]
     },
     "execution_count": 38,
     "metadata": {},
     "output_type": "execute_result"
    }
   ],
   "source": [
    "x = x.reshape((10,1))\n",
    "y = y.reshape((10,1))\n",
    "x = np.hstack([np.ones((10,1)),x])\n",
    "x"
   ]
  },
  {
   "cell_type": "code",
   "execution_count": 41,
   "metadata": {},
   "outputs": [
    {
     "data": {
      "text/plain": [
       "array([444.17735732])"
      ]
     },
     "execution_count": 41,
     "metadata": {},
     "output_type": "execute_result"
    }
   ],
   "source": [
    "B = np.dot(np.linalg.inv(np.dot(x.T,x)),x.T@y)\n"
   ]
  },
  {
   "cell_type": "code",
   "execution_count": 44,
   "metadata": {},
   "outputs": [
    {
     "data": {
      "text/plain": [
       "6470.414201176658"
      ]
     },
     "execution_count": 44,
     "metadata": {},
     "output_type": "execute_result"
    }
   ],
   "source": [
    "mse = np.sum(((B[0] + B[1] * x ) - y )**2/10)\n",
    "mse"
   ]
  },
  {
   "cell_type": "markdown",
   "metadata": {},
   "source": [
    "Посчитать коэффициент линейной регрессии при заработной плате (zp), используя градиентный спуск (без intercept)."
   ]
  },
  {
   "cell_type": "code",
   "execution_count": 65,
   "metadata": {},
   "outputs": [],
   "source": [
    "def mse(B1,y=y,x=x,n=10):\n",
    "    return np.sum((B1*x-y)**2)/n\n",
    "n = 10\n",
    "B1 = 0.1\n",
    "alpha = 1e-6\n"
   ]
  },
  {
   "cell_type": "code",
   "execution_count": 66,
   "metadata": {},
   "outputs": [
    {
     "name": "stdout",
     "output_type": "stream",
     "text": [
      "iteration: 0, B1 = 0.25952808 ,mse= 493237.7212546963\n",
      "iteration: 200, B1 = 5.868748638669329 ,mse= 56522.97550129376\n",
      "iteration: 400, B1 = 5.8897415574471985 ,mse= 56516.85850140053\n",
      "iteration: 600, B1 = 5.889820124983314 ,mse= 56516.85841572062\n",
      "iteration: 800, B1 = 5.88982041902807 ,mse= 56516.8584157194\n",
      "iteration: 1000, B1 = 5.8898204201285544 ,mse= 56516.85841571941\n",
      "iteration: 1200, B1 = 5.889820420132673 ,mse= 56516.85841571943\n",
      "iteration: 1400, B1 = 5.889820420132673 ,mse= 56516.85841571943\n",
      "iteration: 1600, B1 = 5.889820420132673 ,mse= 56516.85841571943\n",
      "iteration: 1800, B1 = 5.889820420132673 ,mse= 56516.85841571943\n"
     ]
    }
   ],
   "source": [
    "for i in range(2000):\n",
    "    B1 -=alpha*(2/n)*np.sum((B1*x-y)*x)\n",
    "    if i%200==0:\n",
    "        print(f'iteration: {i}, B1 = {B1} ,mse= {mse(B1)}')"
   ]
  },
  {
   "cell_type": "code",
   "execution_count": 67,
   "metadata": {},
   "outputs": [
    {
     "data": {
      "text/plain": [
       "56516.85841571943"
      ]
     },
     "execution_count": 67,
     "metadata": {},
     "output_type": "execute_result"
    }
   ],
   "source": [
    "#как видно из iteration 1200, B1 и mse не изменяются \n",
    "mse(5.889820420132673)"
   ]
  },
  {
   "cell_type": "markdown",
   "metadata": {},
   "source": [
    "В каких случаях для вычисления доверительных интервалов и проверки статистических гипотез используется таблица значений функции Лапласа, а в каких - таблица критических точек распределения Стьюдента?"
   ]
  },
  {
   "cell_type": "markdown",
   "metadata": {},
   "source": [
    "**Таблица Лапласа используется если известна сигма**"
   ]
  }
 ],
 "metadata": {
  "kernelspec": {
   "display_name": "Python 3",
   "language": "python",
   "name": "python3"
  },
  "language_info": {
   "codemirror_mode": {
    "name": "ipython",
    "version": 3
   },
   "file_extension": ".py",
   "mimetype": "text/x-python",
   "name": "python",
   "nbconvert_exporter": "python",
   "pygments_lexer": "ipython3",
   "version": "3.7.3"
  }
 },
 "nbformat": 4,
 "nbformat_minor": 2
}
